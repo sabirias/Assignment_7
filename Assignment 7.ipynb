{
 "cells": [
  {
   "cell_type": "code",
   "execution_count": null,
   "id": "b04005cf-955b-43d5-adf7-9eafc907bb0d",
   "metadata": {},
   "outputs": [],
   "source": [
    "                                       Assignment :- 7"
   ]
  },
  {
   "cell_type": "code",
   "execution_count": 12,
   "id": "86dbbded-a4de-4acf-9732-5045b8bedb55",
   "metadata": {},
   "outputs": [
    {
     "name": "stdout",
     "output_type": "stream",
     "text": [
      "The product of all numbers in the flat list is: 0\n"
     ]
    }
   ],
   "source": [
    "from functools import reduce\n",
    "import operator\n",
    "\n",
    "def flatten_list(lst):\n",
    "    flat_list = []\n",
    "    for item in lst:\n",
    "        if isinstance(item, (list, tuple, set)):\n",
    "            flat_list.extend(flatten_list(item))\n",
    "        elif isinstance(item, dict):\n",
    "            flat_list.extend(flatten_list(item.items()))\n",
    "        elif isinstance(item, (int, float)):\n",
    "            flat_list.append(item)\n",
    "    return flat_list\n",
    "\n",
    "def product_of_numbers(lst):\n",
    "    flat_list = flatten_list(lst)\n",
    "\n",
    "    # Check if the flat list is not empty\n",
    "    if not flat_list:\n",
    "        return None  # You can choose an appropriate value for an empty list\n",
    "\n",
    "    # Use the reduce function to calculate the product of all numbers\n",
    "    result = reduce(operator.mul, flat_list)\n",
    "\n",
    "    return result\n",
    "\n",
    "# Example usage:\n",
    "list1 = [1, 2, 3, 4, [44, 55, 66, True], False, (34, 56, 78, 89, 34), {1, 2, 3, 3, 2, 1},\n",
    "         {1: 34, \"key2\": [55, 67, 78, 89], 4: (45, 22, 61, 34)}, [56, 'data science'], 'Machine Learning']\n",
    "\n",
    "result = product_of_numbers(list1)\n",
    "\n",
    "print(f\"The product of all numbers in the flat list is: {result}\")\n"
   ]
  },
  {
   "cell_type": "code",
   "execution_count": 38,
   "id": "c22fc74d-e30b-4d54-a973-93bd81e5ced6",
   "metadata": {},
   "outputs": [
    {
     "name": "stdout",
     "output_type": "stream",
     "text": [
      "Original Sentence: I want to become a Data Scientist.\n",
      "Encrypted Sentence: r$dzmg$gl$yvxlnv$z$wzgz$hxrvmgrhg.\n"
     ]
    }
   ],
   "source": [
    "def encrypt_message(message):\n",
    "    encrypted_message = \"\"\n",
    "    for char in message:\n",
    "        if char.isalpha():  # Check if the character is an alphabet\n",
    "            if char.islower():\n",
    "                encrypted_message += chr(ord('a') + (ord('z') - ord(char)))  # Encrypt lowercase letters\n",
    "            else:\n",
    "                encrypted_message += chr(ord('A') + (ord('Z') - ord(char)))  # Encrypt uppercase letters\n",
    "        elif char.isspace():  # Check if the character is a whitespace\n",
    "            encrypted_message += '$'  # Replace whitespace with a dollar sign\n",
    "        else:\n",
    "            encrypted_message += char  # Keep punctuation marks unchanged\n",
    "    return encrypted_message\n",
    "\n",
    "# Example usage:\n",
    "input_sentence = \"I want to become a Data Scientist.\"\n",
    "lowercase_input = input_sentence.lower()  # Convert the input sentence to lowercase\n",
    "encrypted_result = encrypt_message(lowercase_input)\n",
    "\n",
    "print(\"Original Sentence:\", input_sentence)\n",
    "print(\"Encrypted Sentence:\", encrypted_result)\n"
   ]
  },
  {
   "cell_type": "code",
   "execution_count": null,
   "id": "34743396-a0c7-42b8-9228-cb975bda60b9",
   "metadata": {},
   "outputs": [],
   "source": []
  }
 ],
 "metadata": {
  "kernelspec": {
   "display_name": "Python 3 (ipykernel)",
   "language": "python",
   "name": "python3"
  },
  "language_info": {
   "codemirror_mode": {
    "name": "ipython",
    "version": 3
   },
   "file_extension": ".py",
   "mimetype": "text/x-python",
   "name": "python",
   "nbconvert_exporter": "python",
   "pygments_lexer": "ipython3",
   "version": "3.12.0"
  }
 },
 "nbformat": 4,
 "nbformat_minor": 5
}
